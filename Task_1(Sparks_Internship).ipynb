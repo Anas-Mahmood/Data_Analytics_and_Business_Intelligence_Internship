{
  "nbformat": 4,
  "nbformat_minor": 0,
  "metadata": {
    "colab": {
      "provenance": []
    },
    "kernelspec": {
      "name": "python3",
      "display_name": "Python 3"
    },
    "language_info": {
      "name": "python"
    }
  },
  "cells": [
    {
      "cell_type": "markdown",
      "source": [
        "# **Task #1**"
      ],
      "metadata": {
        "id": "NLKvNAQto7Kt"
      }
    },
    {
      "cell_type": "markdown",
      "source": [
        "## **Predict the percenrage of an student based on the number of study hours**"
      ],
      "metadata": {
        "id": "0SkFz3hSpIW9"
      }
    },
    {
      "cell_type": "code",
      "source": [
        "from pyforest import *"
      ],
      "metadata": {
        "id": "VXHR1SihpS5j"
      },
      "execution_count": null,
      "outputs": []
    },
    {
      "cell_type": "code",
      "source": [
        "url = \"http://bit.ly/w-data\"\n",
        "data = pd.read_csv(url)\n",
        "print(\"Data imported successfully\")\n",
        "\n",
        "data.head(10)"
      ],
      "metadata": {
        "colab": {
          "base_uri": "https://localhost:8080/",
          "height": 380
        },
        "id": "IgNNYULwqNJJ",
        "outputId": "52cd4574-3e07-4e64-f26a-28494ce24b00"
      },
      "execution_count": null,
      "outputs": [
        {
          "output_type": "display_data",
          "data": {
            "text/plain": [
              "<IPython.core.display.Javascript object>"
            ],
            "application/javascript": [
              "\n",
              "        if (window._pyforest_update_imports_cell) { window._pyforest_update_imports_cell('import pandas as pd\\nimport plotly as py\\nimport pickle\\nimport pydot\\nimport plotly.express as px\\nimport matplotlib.pyplot as plt'); }\n",
              "    "
            ]
          },
          "metadata": {}
        },
        {
          "output_type": "stream",
          "name": "stdout",
          "text": [
            "Data imported successfully\n"
          ]
        },
        {
          "output_type": "execute_result",
          "data": {
            "text/plain": [
              "   Hours  Scores\n",
              "0    2.5      21\n",
              "1    5.1      47\n",
              "2    3.2      27\n",
              "3    8.5      75\n",
              "4    3.5      30\n",
              "5    1.5      20\n",
              "6    9.2      88\n",
              "7    5.5      60\n",
              "8    8.3      81\n",
              "9    2.7      25"
            ],
            "text/html": [
              "\n",
              "  <div id=\"df-359a4750-fc36-4a81-b699-66eb3b8c5b27\" class=\"colab-df-container\">\n",
              "    <div>\n",
              "<style scoped>\n",
              "    .dataframe tbody tr th:only-of-type {\n",
              "        vertical-align: middle;\n",
              "    }\n",
              "\n",
              "    .dataframe tbody tr th {\n",
              "        vertical-align: top;\n",
              "    }\n",
              "\n",
              "    .dataframe thead th {\n",
              "        text-align: right;\n",
              "    }\n",
              "</style>\n",
              "<table border=\"1\" class=\"dataframe\">\n",
              "  <thead>\n",
              "    <tr style=\"text-align: right;\">\n",
              "      <th></th>\n",
              "      <th>Hours</th>\n",
              "      <th>Scores</th>\n",
              "    </tr>\n",
              "  </thead>\n",
              "  <tbody>\n",
              "    <tr>\n",
              "      <th>0</th>\n",
              "      <td>2.5</td>\n",
              "      <td>21</td>\n",
              "    </tr>\n",
              "    <tr>\n",
              "      <th>1</th>\n",
              "      <td>5.1</td>\n",
              "      <td>47</td>\n",
              "    </tr>\n",
              "    <tr>\n",
              "      <th>2</th>\n",
              "      <td>3.2</td>\n",
              "      <td>27</td>\n",
              "    </tr>\n",
              "    <tr>\n",
              "      <th>3</th>\n",
              "      <td>8.5</td>\n",
              "      <td>75</td>\n",
              "    </tr>\n",
              "    <tr>\n",
              "      <th>4</th>\n",
              "      <td>3.5</td>\n",
              "      <td>30</td>\n",
              "    </tr>\n",
              "    <tr>\n",
              "      <th>5</th>\n",
              "      <td>1.5</td>\n",
              "      <td>20</td>\n",
              "    </tr>\n",
              "    <tr>\n",
              "      <th>6</th>\n",
              "      <td>9.2</td>\n",
              "      <td>88</td>\n",
              "    </tr>\n",
              "    <tr>\n",
              "      <th>7</th>\n",
              "      <td>5.5</td>\n",
              "      <td>60</td>\n",
              "    </tr>\n",
              "    <tr>\n",
              "      <th>8</th>\n",
              "      <td>8.3</td>\n",
              "      <td>81</td>\n",
              "    </tr>\n",
              "    <tr>\n",
              "      <th>9</th>\n",
              "      <td>2.7</td>\n",
              "      <td>25</td>\n",
              "    </tr>\n",
              "  </tbody>\n",
              "</table>\n",
              "</div>\n",
              "    <div class=\"colab-df-buttons\">\n",
              "\n",
              "  <div class=\"colab-df-container\">\n",
              "    <button class=\"colab-df-convert\" onclick=\"convertToInteractive('df-359a4750-fc36-4a81-b699-66eb3b8c5b27')\"\n",
              "            title=\"Convert this dataframe to an interactive table.\"\n",
              "            style=\"display:none;\">\n",
              "\n",
              "  <svg xmlns=\"http://www.w3.org/2000/svg\" height=\"24px\" viewBox=\"0 -960 960 960\">\n",
              "    <path d=\"M120-120v-720h720v720H120Zm60-500h600v-160H180v160Zm220 220h160v-160H400v160Zm0 220h160v-160H400v160ZM180-400h160v-160H180v160Zm440 0h160v-160H620v160ZM180-180h160v-160H180v160Zm440 0h160v-160H620v160Z\"/>\n",
              "  </svg>\n",
              "    </button>\n",
              "\n",
              "  <style>\n",
              "    .colab-df-container {\n",
              "      display:flex;\n",
              "      gap: 12px;\n",
              "    }\n",
              "\n",
              "    .colab-df-convert {\n",
              "      background-color: #E8F0FE;\n",
              "      border: none;\n",
              "      border-radius: 50%;\n",
              "      cursor: pointer;\n",
              "      display: none;\n",
              "      fill: #1967D2;\n",
              "      height: 32px;\n",
              "      padding: 0 0 0 0;\n",
              "      width: 32px;\n",
              "    }\n",
              "\n",
              "    .colab-df-convert:hover {\n",
              "      background-color: #E2EBFA;\n",
              "      box-shadow: 0px 1px 2px rgba(60, 64, 67, 0.3), 0px 1px 3px 1px rgba(60, 64, 67, 0.15);\n",
              "      fill: #174EA6;\n",
              "    }\n",
              "\n",
              "    .colab-df-buttons div {\n",
              "      margin-bottom: 4px;\n",
              "    }\n",
              "\n",
              "    [theme=dark] .colab-df-convert {\n",
              "      background-color: #3B4455;\n",
              "      fill: #D2E3FC;\n",
              "    }\n",
              "\n",
              "    [theme=dark] .colab-df-convert:hover {\n",
              "      background-color: #434B5C;\n",
              "      box-shadow: 0px 1px 3px 1px rgba(0, 0, 0, 0.15);\n",
              "      filter: drop-shadow(0px 1px 2px rgba(0, 0, 0, 0.3));\n",
              "      fill: #FFFFFF;\n",
              "    }\n",
              "  </style>\n",
              "\n",
              "    <script>\n",
              "      const buttonEl =\n",
              "        document.querySelector('#df-359a4750-fc36-4a81-b699-66eb3b8c5b27 button.colab-df-convert');\n",
              "      buttonEl.style.display =\n",
              "        google.colab.kernel.accessAllowed ? 'block' : 'none';\n",
              "\n",
              "      async function convertToInteractive(key) {\n",
              "        const element = document.querySelector('#df-359a4750-fc36-4a81-b699-66eb3b8c5b27');\n",
              "        const dataTable =\n",
              "          await google.colab.kernel.invokeFunction('convertToInteractive',\n",
              "                                                    [key], {});\n",
              "        if (!dataTable) return;\n",
              "\n",
              "        const docLinkHtml = 'Like what you see? Visit the ' +\n",
              "          '<a target=\"_blank\" href=https://colab.research.google.com/notebooks/data_table.ipynb>data table notebook</a>'\n",
              "          + ' to learn more about interactive tables.';\n",
              "        element.innerHTML = '';\n",
              "        dataTable['output_type'] = 'display_data';\n",
              "        await google.colab.output.renderOutput(dataTable, element);\n",
              "        const docLink = document.createElement('div');\n",
              "        docLink.innerHTML = docLinkHtml;\n",
              "        element.appendChild(docLink);\n",
              "      }\n",
              "    </script>\n",
              "  </div>\n",
              "\n",
              "\n",
              "<div id=\"df-78106d8b-e2d4-4731-b457-f9a02ce3a0c8\">\n",
              "  <button class=\"colab-df-quickchart\" onclick=\"quickchart('df-78106d8b-e2d4-4731-b457-f9a02ce3a0c8')\"\n",
              "            title=\"Suggest charts.\"\n",
              "            style=\"display:none;\">\n",
              "\n",
              "<svg xmlns=\"http://www.w3.org/2000/svg\" height=\"24px\"viewBox=\"0 0 24 24\"\n",
              "     width=\"24px\">\n",
              "    <g>\n",
              "        <path d=\"M19 3H5c-1.1 0-2 .9-2 2v14c0 1.1.9 2 2 2h14c1.1 0 2-.9 2-2V5c0-1.1-.9-2-2-2zM9 17H7v-7h2v7zm4 0h-2V7h2v10zm4 0h-2v-4h2v4z\"/>\n",
              "    </g>\n",
              "</svg>\n",
              "  </button>\n",
              "\n",
              "<style>\n",
              "  .colab-df-quickchart {\n",
              "      --bg-color: #E8F0FE;\n",
              "      --fill-color: #1967D2;\n",
              "      --hover-bg-color: #E2EBFA;\n",
              "      --hover-fill-color: #174EA6;\n",
              "      --disabled-fill-color: #AAA;\n",
              "      --disabled-bg-color: #DDD;\n",
              "  }\n",
              "\n",
              "  [theme=dark] .colab-df-quickchart {\n",
              "      --bg-color: #3B4455;\n",
              "      --fill-color: #D2E3FC;\n",
              "      --hover-bg-color: #434B5C;\n",
              "      --hover-fill-color: #FFFFFF;\n",
              "      --disabled-bg-color: #3B4455;\n",
              "      --disabled-fill-color: #666;\n",
              "  }\n",
              "\n",
              "  .colab-df-quickchart {\n",
              "    background-color: var(--bg-color);\n",
              "    border: none;\n",
              "    border-radius: 50%;\n",
              "    cursor: pointer;\n",
              "    display: none;\n",
              "    fill: var(--fill-color);\n",
              "    height: 32px;\n",
              "    padding: 0;\n",
              "    width: 32px;\n",
              "  }\n",
              "\n",
              "  .colab-df-quickchart:hover {\n",
              "    background-color: var(--hover-bg-color);\n",
              "    box-shadow: 0 1px 2px rgba(60, 64, 67, 0.3), 0 1px 3px 1px rgba(60, 64, 67, 0.15);\n",
              "    fill: var(--button-hover-fill-color);\n",
              "  }\n",
              "\n",
              "  .colab-df-quickchart-complete:disabled,\n",
              "  .colab-df-quickchart-complete:disabled:hover {\n",
              "    background-color: var(--disabled-bg-color);\n",
              "    fill: var(--disabled-fill-color);\n",
              "    box-shadow: none;\n",
              "  }\n",
              "\n",
              "  .colab-df-spinner {\n",
              "    border: 2px solid var(--fill-color);\n",
              "    border-color: transparent;\n",
              "    border-bottom-color: var(--fill-color);\n",
              "    animation:\n",
              "      spin 1s steps(1) infinite;\n",
              "  }\n",
              "\n",
              "  @keyframes spin {\n",
              "    0% {\n",
              "      border-color: transparent;\n",
              "      border-bottom-color: var(--fill-color);\n",
              "      border-left-color: var(--fill-color);\n",
              "    }\n",
              "    20% {\n",
              "      border-color: transparent;\n",
              "      border-left-color: var(--fill-color);\n",
              "      border-top-color: var(--fill-color);\n",
              "    }\n",
              "    30% {\n",
              "      border-color: transparent;\n",
              "      border-left-color: var(--fill-color);\n",
              "      border-top-color: var(--fill-color);\n",
              "      border-right-color: var(--fill-color);\n",
              "    }\n",
              "    40% {\n",
              "      border-color: transparent;\n",
              "      border-right-color: var(--fill-color);\n",
              "      border-top-color: var(--fill-color);\n",
              "    }\n",
              "    60% {\n",
              "      border-color: transparent;\n",
              "      border-right-color: var(--fill-color);\n",
              "    }\n",
              "    80% {\n",
              "      border-color: transparent;\n",
              "      border-right-color: var(--fill-color);\n",
              "      border-bottom-color: var(--fill-color);\n",
              "    }\n",
              "    90% {\n",
              "      border-color: transparent;\n",
              "      border-bottom-color: var(--fill-color);\n",
              "    }\n",
              "  }\n",
              "</style>\n",
              "\n",
              "  <script>\n",
              "    async function quickchart(key) {\n",
              "      const quickchartButtonEl =\n",
              "        document.querySelector('#' + key + ' button');\n",
              "      quickchartButtonEl.disabled = true;  // To prevent multiple clicks.\n",
              "      quickchartButtonEl.classList.add('colab-df-spinner');\n",
              "      try {\n",
              "        const charts = await google.colab.kernel.invokeFunction(\n",
              "            'suggestCharts', [key], {});\n",
              "      } catch (error) {\n",
              "        console.error('Error during call to suggestCharts:', error);\n",
              "      }\n",
              "      quickchartButtonEl.classList.remove('colab-df-spinner');\n",
              "      quickchartButtonEl.classList.add('colab-df-quickchart-complete');\n",
              "    }\n",
              "    (() => {\n",
              "      let quickchartButtonEl =\n",
              "        document.querySelector('#df-78106d8b-e2d4-4731-b457-f9a02ce3a0c8 button');\n",
              "      quickchartButtonEl.style.display =\n",
              "        google.colab.kernel.accessAllowed ? 'block' : 'none';\n",
              "    })();\n",
              "  </script>\n",
              "</div>\n",
              "    </div>\n",
              "  </div>\n"
            ]
          },
          "metadata": {},
          "execution_count": 13
        }
      ]
    },
    {
      "cell_type": "code",
      "source": [
        "data.describe()"
      ],
      "metadata": {
        "colab": {
          "base_uri": "https://localhost:8080/",
          "height": 300
        },
        "id": "N0d-gmxYqx1b",
        "outputId": "86609c5f-5203-440c-94ec-b01a6cfda301"
      },
      "execution_count": null,
      "outputs": [
        {
          "output_type": "execute_result",
          "data": {
            "text/plain": [
              "           Hours     Scores\n",
              "count  25.000000  25.000000\n",
              "mean    5.012000  51.480000\n",
              "std     2.525094  25.286887\n",
              "min     1.100000  17.000000\n",
              "25%     2.700000  30.000000\n",
              "50%     4.800000  47.000000\n",
              "75%     7.400000  75.000000\n",
              "max     9.200000  95.000000"
            ],
            "text/html": [
              "\n",
              "  <div id=\"df-2a91079c-13ef-42cf-a5d8-1a1ab13333c6\" class=\"colab-df-container\">\n",
              "    <div>\n",
              "<style scoped>\n",
              "    .dataframe tbody tr th:only-of-type {\n",
              "        vertical-align: middle;\n",
              "    }\n",
              "\n",
              "    .dataframe tbody tr th {\n",
              "        vertical-align: top;\n",
              "    }\n",
              "\n",
              "    .dataframe thead th {\n",
              "        text-align: right;\n",
              "    }\n",
              "</style>\n",
              "<table border=\"1\" class=\"dataframe\">\n",
              "  <thead>\n",
              "    <tr style=\"text-align: right;\">\n",
              "      <th></th>\n",
              "      <th>Hours</th>\n",
              "      <th>Scores</th>\n",
              "    </tr>\n",
              "  </thead>\n",
              "  <tbody>\n",
              "    <tr>\n",
              "      <th>count</th>\n",
              "      <td>25.000000</td>\n",
              "      <td>25.000000</td>\n",
              "    </tr>\n",
              "    <tr>\n",
              "      <th>mean</th>\n",
              "      <td>5.012000</td>\n",
              "      <td>51.480000</td>\n",
              "    </tr>\n",
              "    <tr>\n",
              "      <th>std</th>\n",
              "      <td>2.525094</td>\n",
              "      <td>25.286887</td>\n",
              "    </tr>\n",
              "    <tr>\n",
              "      <th>min</th>\n",
              "      <td>1.100000</td>\n",
              "      <td>17.000000</td>\n",
              "    </tr>\n",
              "    <tr>\n",
              "      <th>25%</th>\n",
              "      <td>2.700000</td>\n",
              "      <td>30.000000</td>\n",
              "    </tr>\n",
              "    <tr>\n",
              "      <th>50%</th>\n",
              "      <td>4.800000</td>\n",
              "      <td>47.000000</td>\n",
              "    </tr>\n",
              "    <tr>\n",
              "      <th>75%</th>\n",
              "      <td>7.400000</td>\n",
              "      <td>75.000000</td>\n",
              "    </tr>\n",
              "    <tr>\n",
              "      <th>max</th>\n",
              "      <td>9.200000</td>\n",
              "      <td>95.000000</td>\n",
              "    </tr>\n",
              "  </tbody>\n",
              "</table>\n",
              "</div>\n",
              "    <div class=\"colab-df-buttons\">\n",
              "\n",
              "  <div class=\"colab-df-container\">\n",
              "    <button class=\"colab-df-convert\" onclick=\"convertToInteractive('df-2a91079c-13ef-42cf-a5d8-1a1ab13333c6')\"\n",
              "            title=\"Convert this dataframe to an interactive table.\"\n",
              "            style=\"display:none;\">\n",
              "\n",
              "  <svg xmlns=\"http://www.w3.org/2000/svg\" height=\"24px\" viewBox=\"0 -960 960 960\">\n",
              "    <path d=\"M120-120v-720h720v720H120Zm60-500h600v-160H180v160Zm220 220h160v-160H400v160Zm0 220h160v-160H400v160ZM180-400h160v-160H180v160Zm440 0h160v-160H620v160ZM180-180h160v-160H180v160Zm440 0h160v-160H620v160Z\"/>\n",
              "  </svg>\n",
              "    </button>\n",
              "\n",
              "  <style>\n",
              "    .colab-df-container {\n",
              "      display:flex;\n",
              "      gap: 12px;\n",
              "    }\n",
              "\n",
              "    .colab-df-convert {\n",
              "      background-color: #E8F0FE;\n",
              "      border: none;\n",
              "      border-radius: 50%;\n",
              "      cursor: pointer;\n",
              "      display: none;\n",
              "      fill: #1967D2;\n",
              "      height: 32px;\n",
              "      padding: 0 0 0 0;\n",
              "      width: 32px;\n",
              "    }\n",
              "\n",
              "    .colab-df-convert:hover {\n",
              "      background-color: #E2EBFA;\n",
              "      box-shadow: 0px 1px 2px rgba(60, 64, 67, 0.3), 0px 1px 3px 1px rgba(60, 64, 67, 0.15);\n",
              "      fill: #174EA6;\n",
              "    }\n",
              "\n",
              "    .colab-df-buttons div {\n",
              "      margin-bottom: 4px;\n",
              "    }\n",
              "\n",
              "    [theme=dark] .colab-df-convert {\n",
              "      background-color: #3B4455;\n",
              "      fill: #D2E3FC;\n",
              "    }\n",
              "\n",
              "    [theme=dark] .colab-df-convert:hover {\n",
              "      background-color: #434B5C;\n",
              "      box-shadow: 0px 1px 3px 1px rgba(0, 0, 0, 0.15);\n",
              "      filter: drop-shadow(0px 1px 2px rgba(0, 0, 0, 0.3));\n",
              "      fill: #FFFFFF;\n",
              "    }\n",
              "  </style>\n",
              "\n",
              "    <script>\n",
              "      const buttonEl =\n",
              "        document.querySelector('#df-2a91079c-13ef-42cf-a5d8-1a1ab13333c6 button.colab-df-convert');\n",
              "      buttonEl.style.display =\n",
              "        google.colab.kernel.accessAllowed ? 'block' : 'none';\n",
              "\n",
              "      async function convertToInteractive(key) {\n",
              "        const element = document.querySelector('#df-2a91079c-13ef-42cf-a5d8-1a1ab13333c6');\n",
              "        const dataTable =\n",
              "          await google.colab.kernel.invokeFunction('convertToInteractive',\n",
              "                                                    [key], {});\n",
              "        if (!dataTable) return;\n",
              "\n",
              "        const docLinkHtml = 'Like what you see? Visit the ' +\n",
              "          '<a target=\"_blank\" href=https://colab.research.google.com/notebooks/data_table.ipynb>data table notebook</a>'\n",
              "          + ' to learn more about interactive tables.';\n",
              "        element.innerHTML = '';\n",
              "        dataTable['output_type'] = 'display_data';\n",
              "        await google.colab.output.renderOutput(dataTable, element);\n",
              "        const docLink = document.createElement('div');\n",
              "        docLink.innerHTML = docLinkHtml;\n",
              "        element.appendChild(docLink);\n",
              "      }\n",
              "    </script>\n",
              "  </div>\n",
              "\n",
              "\n",
              "<div id=\"df-63ddee33-a4c8-4e53-a896-3671fa4d1839\">\n",
              "  <button class=\"colab-df-quickchart\" onclick=\"quickchart('df-63ddee33-a4c8-4e53-a896-3671fa4d1839')\"\n",
              "            title=\"Suggest charts.\"\n",
              "            style=\"display:none;\">\n",
              "\n",
              "<svg xmlns=\"http://www.w3.org/2000/svg\" height=\"24px\"viewBox=\"0 0 24 24\"\n",
              "     width=\"24px\">\n",
              "    <g>\n",
              "        <path d=\"M19 3H5c-1.1 0-2 .9-2 2v14c0 1.1.9 2 2 2h14c1.1 0 2-.9 2-2V5c0-1.1-.9-2-2-2zM9 17H7v-7h2v7zm4 0h-2V7h2v10zm4 0h-2v-4h2v4z\"/>\n",
              "    </g>\n",
              "</svg>\n",
              "  </button>\n",
              "\n",
              "<style>\n",
              "  .colab-df-quickchart {\n",
              "      --bg-color: #E8F0FE;\n",
              "      --fill-color: #1967D2;\n",
              "      --hover-bg-color: #E2EBFA;\n",
              "      --hover-fill-color: #174EA6;\n",
              "      --disabled-fill-color: #AAA;\n",
              "      --disabled-bg-color: #DDD;\n",
              "  }\n",
              "\n",
              "  [theme=dark] .colab-df-quickchart {\n",
              "      --bg-color: #3B4455;\n",
              "      --fill-color: #D2E3FC;\n",
              "      --hover-bg-color: #434B5C;\n",
              "      --hover-fill-color: #FFFFFF;\n",
              "      --disabled-bg-color: #3B4455;\n",
              "      --disabled-fill-color: #666;\n",
              "  }\n",
              "\n",
              "  .colab-df-quickchart {\n",
              "    background-color: var(--bg-color);\n",
              "    border: none;\n",
              "    border-radius: 50%;\n",
              "    cursor: pointer;\n",
              "    display: none;\n",
              "    fill: var(--fill-color);\n",
              "    height: 32px;\n",
              "    padding: 0;\n",
              "    width: 32px;\n",
              "  }\n",
              "\n",
              "  .colab-df-quickchart:hover {\n",
              "    background-color: var(--hover-bg-color);\n",
              "    box-shadow: 0 1px 2px rgba(60, 64, 67, 0.3), 0 1px 3px 1px rgba(60, 64, 67, 0.15);\n",
              "    fill: var(--button-hover-fill-color);\n",
              "  }\n",
              "\n",
              "  .colab-df-quickchart-complete:disabled,\n",
              "  .colab-df-quickchart-complete:disabled:hover {\n",
              "    background-color: var(--disabled-bg-color);\n",
              "    fill: var(--disabled-fill-color);\n",
              "    box-shadow: none;\n",
              "  }\n",
              "\n",
              "  .colab-df-spinner {\n",
              "    border: 2px solid var(--fill-color);\n",
              "    border-color: transparent;\n",
              "    border-bottom-color: var(--fill-color);\n",
              "    animation:\n",
              "      spin 1s steps(1) infinite;\n",
              "  }\n",
              "\n",
              "  @keyframes spin {\n",
              "    0% {\n",
              "      border-color: transparent;\n",
              "      border-bottom-color: var(--fill-color);\n",
              "      border-left-color: var(--fill-color);\n",
              "    }\n",
              "    20% {\n",
              "      border-color: transparent;\n",
              "      border-left-color: var(--fill-color);\n",
              "      border-top-color: var(--fill-color);\n",
              "    }\n",
              "    30% {\n",
              "      border-color: transparent;\n",
              "      border-left-color: var(--fill-color);\n",
              "      border-top-color: var(--fill-color);\n",
              "      border-right-color: var(--fill-color);\n",
              "    }\n",
              "    40% {\n",
              "      border-color: transparent;\n",
              "      border-right-color: var(--fill-color);\n",
              "      border-top-color: var(--fill-color);\n",
              "    }\n",
              "    60% {\n",
              "      border-color: transparent;\n",
              "      border-right-color: var(--fill-color);\n",
              "    }\n",
              "    80% {\n",
              "      border-color: transparent;\n",
              "      border-right-color: var(--fill-color);\n",
              "      border-bottom-color: var(--fill-color);\n",
              "    }\n",
              "    90% {\n",
              "      border-color: transparent;\n",
              "      border-bottom-color: var(--fill-color);\n",
              "    }\n",
              "  }\n",
              "</style>\n",
              "\n",
              "  <script>\n",
              "    async function quickchart(key) {\n",
              "      const quickchartButtonEl =\n",
              "        document.querySelector('#' + key + ' button');\n",
              "      quickchartButtonEl.disabled = true;  // To prevent multiple clicks.\n",
              "      quickchartButtonEl.classList.add('colab-df-spinner');\n",
              "      try {\n",
              "        const charts = await google.colab.kernel.invokeFunction(\n",
              "            'suggestCharts', [key], {});\n",
              "      } catch (error) {\n",
              "        console.error('Error during call to suggestCharts:', error);\n",
              "      }\n",
              "      quickchartButtonEl.classList.remove('colab-df-spinner');\n",
              "      quickchartButtonEl.classList.add('colab-df-quickchart-complete');\n",
              "    }\n",
              "    (() => {\n",
              "      let quickchartButtonEl =\n",
              "        document.querySelector('#df-63ddee33-a4c8-4e53-a896-3671fa4d1839 button');\n",
              "      quickchartButtonEl.style.display =\n",
              "        google.colab.kernel.accessAllowed ? 'block' : 'none';\n",
              "    })();\n",
              "  </script>\n",
              "</div>\n",
              "    </div>\n",
              "  </div>\n"
            ]
          },
          "metadata": {},
          "execution_count": 14
        }
      ]
    },
    {
      "cell_type": "code",
      "source": [
        "data.isna().sum()"
      ],
      "metadata": {
        "colab": {
          "base_uri": "https://localhost:8080/"
        },
        "id": "wIitnmpCq3ZQ",
        "outputId": "de749040-4165-476d-9e2b-918ead1662b4"
      },
      "execution_count": null,
      "outputs": [
        {
          "output_type": "execute_result",
          "data": {
            "text/plain": [
              "Hours     0\n",
              "Scores    0\n",
              "dtype: int64"
            ]
          },
          "metadata": {},
          "execution_count": 16
        }
      ]
    },
    {
      "cell_type": "code",
      "source": [
        "data.plot(x='Hours', y='Scores', style='o')\n",
        "plt.title('Hours vs Percentage')\n",
        "plt.xlabel('Hours Studied')\n",
        "plt.ylabel('Percentage Score')\n",
        "plt.show()"
      ],
      "metadata": {
        "colab": {
          "base_uri": "https://localhost:8080/",
          "height": 472
        },
        "id": "QLKeDIdn1RjA",
        "outputId": "bf950d16-3935-4c2f-d8a9-761ed5eae7f9"
      },
      "execution_count": null,
      "outputs": [
        {
          "output_type": "display_data",
          "data": {
            "text/plain": [
              "<IPython.core.display.Javascript object>"
            ],
            "application/javascript": [
              "\n",
              "        if (window._pyforest_update_imports_cell) { window._pyforest_update_imports_cell('import re\\nimport seaborn as sns\\nimport textblob\\nimport statsmodels.api as sm\\nimport tqdm\\nimport matplotlib as mpl\\nimport spacy\\nimport sys\\nfrom sklearn.ensemble import GradientBoostingRegressor\\nimport xgboost as xgb\\nfrom statsmodels.tsa.arima_model import ARIMA\\nimport skimage\\nfrom sklearn.linear_model import LogisticRegression\\nfrom sklearn.model_selection import cross_val_score\\nimport pydot\\nfrom sklearn import metrics\\nfrom sklearn.ensemble import GradientBoostingClassifier\\nfrom sklearn.preprocessing import LabelEncoder\\nfrom sklearn.preprocessing import OneHotEncoder\\nimport sklearn\\nfrom sklearn.decomposition import PCA\\nfrom sklearn.linear_model import LassoCV\\nfrom pathlib import Path\\nfrom sklearn.feature_extraction.text import CountVectorizer\\nfrom sklearn.linear_model import LinearRegression\\nfrom sklearn.model_selection import KFold\\nimport plotly as py\\nfrom sklearn.linear_model import ElasticNetCV\\nimport tensorflow as tf\\nimport matplotlib.pyplot as plt\\nfrom PIL import Image\\nfrom sklearn.linear_model import ElasticNet\\nimport torch\\nfrom sklearn import svm\\nimport cv2\\nimport numpy as np\\nfrom sklearn.preprocessing import PolynomialFeatures\\nfrom sklearn.model_selection import GridSearchCV\\nimport statistics\\nimport pandas as pd\\nimport pickle\\nfrom sklearn.preprocessing import MinMaxScaler\\nimport plotly.express as px\\nfrom sklearn.model_selection import train_test_split\\nfrom scipy import stats\\nfrom scipy import signal as sg\\nfrom sklearn.cluster import KMeans\\nfrom sklearn.linear_model import Lasso'); }\n",
              "    "
            ]
          },
          "metadata": {}
        },
        {
          "output_type": "display_data",
          "data": {
            "text/plain": [
              "<IPython.core.display.Javascript object>"
            ],
            "application/javascript": [
              "\n",
              "        if (window._pyforest_update_imports_cell) { window._pyforest_update_imports_cell('import re\\nimport seaborn as sns\\nimport textblob\\nimport statsmodels.api as sm\\nimport tqdm\\nimport matplotlib as mpl\\nimport spacy\\nimport sys\\nfrom sklearn.ensemble import GradientBoostingRegressor\\nimport xgboost as xgb\\nfrom statsmodels.tsa.arima_model import ARIMA\\nimport skimage\\nfrom sklearn.linear_model import LogisticRegression\\nfrom sklearn.model_selection import cross_val_score\\nimport pydot\\nfrom sklearn import metrics\\nfrom sklearn.ensemble import GradientBoostingClassifier\\nfrom sklearn.preprocessing import LabelEncoder\\nfrom sklearn.preprocessing import OneHotEncoder\\nimport sklearn\\nfrom sklearn.decomposition import PCA\\nfrom sklearn.linear_model import LassoCV\\nfrom pathlib import Path\\nfrom sklearn.feature_extraction.text import CountVectorizer\\nfrom sklearn.linear_model import LinearRegression\\nfrom sklearn.model_selection import KFold\\nimport plotly as py\\nfrom sklearn.linear_model import ElasticNetCV\\nimport tensorflow as tf\\nimport matplotlib.pyplot as plt\\nfrom PIL import Image\\nfrom sklearn.linear_model import ElasticNet\\nimport torch\\nfrom sklearn import svm\\nimport cv2\\nimport numpy as np\\nfrom sklearn.preprocessing import PolynomialFeatures\\nfrom sklearn.model_selection import GridSearchCV\\nimport statistics\\nimport pandas as pd\\nimport pickle\\nfrom sklearn.preprocessing import MinMaxScaler\\nimport plotly.express as px\\nfrom sklearn.model_selection import train_test_split\\nfrom scipy import stats\\nfrom scipy import signal as sg\\nfrom sklearn.cluster import KMeans\\nfrom sklearn.linear_model import Lasso'); }\n",
              "    "
            ]
          },
          "metadata": {}
        },
        {
          "output_type": "display_data",
          "data": {
            "text/plain": [
              "<IPython.core.display.Javascript object>"
            ],
            "application/javascript": [
              "\n",
              "        if (window._pyforest_update_imports_cell) { window._pyforest_update_imports_cell('import re\\nimport seaborn as sns\\nimport textblob\\nimport statsmodels.api as sm\\nimport tqdm\\nimport matplotlib as mpl\\nimport spacy\\nimport sys\\nfrom sklearn.ensemble import GradientBoostingRegressor\\nimport xgboost as xgb\\nfrom statsmodels.tsa.arima_model import ARIMA\\nimport skimage\\nfrom sklearn.linear_model import LogisticRegression\\nfrom sklearn.model_selection import cross_val_score\\nimport pydot\\nfrom sklearn import metrics\\nfrom sklearn.ensemble import GradientBoostingClassifier\\nfrom sklearn.preprocessing import LabelEncoder\\nfrom sklearn.preprocessing import OneHotEncoder\\nimport sklearn\\nfrom sklearn.decomposition import PCA\\nfrom sklearn.linear_model import LassoCV\\nfrom pathlib import Path\\nfrom sklearn.feature_extraction.text import CountVectorizer\\nfrom sklearn.linear_model import LinearRegression\\nfrom sklearn.model_selection import KFold\\nimport plotly as py\\nfrom sklearn.linear_model import ElasticNetCV\\nimport tensorflow as tf\\nimport matplotlib.pyplot as plt\\nfrom PIL import Image\\nfrom sklearn.linear_model import ElasticNet\\nimport torch\\nfrom sklearn import svm\\nimport cv2\\nimport numpy as np\\nfrom sklearn.preprocessing import PolynomialFeatures\\nfrom sklearn.model_selection import GridSearchCV\\nimport statistics\\nimport pandas as pd\\nimport pickle\\nfrom sklearn.preprocessing import MinMaxScaler\\nimport plotly.express as px\\nfrom sklearn.model_selection import train_test_split\\nfrom scipy import stats\\nfrom scipy import signal as sg\\nfrom sklearn.cluster import KMeans\\nfrom sklearn.linear_model import Lasso'); }\n",
              "    "
            ]
          },
          "metadata": {}
        },
        {
          "output_type": "display_data",
          "data": {
            "text/plain": [
              "<IPython.core.display.Javascript object>"
            ],
            "application/javascript": [
              "\n",
              "        if (window._pyforest_update_imports_cell) { window._pyforest_update_imports_cell('import re\\nimport seaborn as sns\\nimport textblob\\nimport statsmodels.api as sm\\nimport tqdm\\nimport matplotlib as mpl\\nimport spacy\\nimport sys\\nfrom sklearn.ensemble import GradientBoostingRegressor\\nimport xgboost as xgb\\nfrom statsmodels.tsa.arima_model import ARIMA\\nimport skimage\\nfrom sklearn.linear_model import LogisticRegression\\nfrom sklearn.model_selection import cross_val_score\\nimport pydot\\nfrom sklearn import metrics\\nfrom sklearn.ensemble import GradientBoostingClassifier\\nfrom sklearn.preprocessing import LabelEncoder\\nfrom sklearn.preprocessing import OneHotEncoder\\nimport sklearn\\nfrom sklearn.decomposition import PCA\\nfrom sklearn.linear_model import LassoCV\\nfrom pathlib import Path\\nfrom sklearn.feature_extraction.text import CountVectorizer\\nfrom sklearn.linear_model import LinearRegression\\nfrom sklearn.model_selection import KFold\\nimport plotly as py\\nfrom sklearn.linear_model import ElasticNetCV\\nimport tensorflow as tf\\nimport matplotlib.pyplot as plt\\nfrom PIL import Image\\nfrom sklearn.linear_model import ElasticNet\\nimport torch\\nfrom sklearn import svm\\nimport cv2\\nimport numpy as np\\nfrom sklearn.preprocessing import PolynomialFeatures\\nfrom sklearn.model_selection import GridSearchCV\\nimport statistics\\nimport pandas as pd\\nimport pickle\\nfrom sklearn.preprocessing import MinMaxScaler\\nimport plotly.express as px\\nfrom sklearn.model_selection import train_test_split\\nfrom scipy import stats\\nfrom scipy import signal as sg\\nfrom sklearn.cluster import KMeans\\nfrom sklearn.linear_model import Lasso'); }\n",
              "    "
            ]
          },
          "metadata": {}
        },
        {
          "output_type": "display_data",
          "data": {
            "text/plain": [
              "<Figure size 640x480 with 1 Axes>"
            ],
            "image/png": "[encoded data removed]"
          },
          "metadata": {}
        }
      ]
    },
    {
      "cell_type": "code",
      "source": [
        "X=data[[\"Hours\"]]\n",
        "y=data[\"Scores\"]"
      ],
      "metadata": {
        "id": "mxl14ihEsqfR"
      },
      "execution_count": null,
      "outputs": []
    },
    {
      "cell_type": "code",
      "source": [
        "X_train,X_test,y_train,y_test=train_test_split(X,y,test_size=0.25,random_state=42)"
      ],
      "metadata": {
        "colab": {
          "base_uri": "https://localhost:8080/",
          "height": 17
        },
        "id": "0rBMnbmKsXwX",
        "outputId": "00e5785b-ce43-4363-9d83-3496474c2dce"
      },
      "execution_count": null,
      "outputs": [
        {
          "output_type": "display_data",
          "data": {
            "text/plain": [
              "<IPython.core.display.Javascript object>"
            ],
            "application/javascript": [
              "\n",
              "        if (window._pyforest_update_imports_cell) { window._pyforest_update_imports_cell('import re\\nimport textblob\\nimport tqdm\\nfrom sklearn.ensemble import GradientBoostingRegressor\\nfrom statsmodels.tsa.arima_model import ARIMA\\nfrom sklearn.linear_model import LogisticRegression\\nimport pydot\\nfrom sklearn.ensemble import GradientBoostingClassifier\\nfrom sklearn.preprocessing import LabelEncoder\\nfrom sklearn.preprocessing import OneHotEncoder\\nfrom sklearn.decomposition import PCA\\nfrom sklearn.linear_model import LassoCV\\nfrom pathlib import Path\\nfrom sklearn.feature_extraction.text import CountVectorizer\\nfrom sklearn.linear_model import LinearRegression\\nfrom sklearn.model_selection import KFold\\nimport plotly as py\\nfrom sklearn.linear_model import ElasticNetCV\\nimport tensorflow as tf\\nimport matplotlib.pyplot as plt\\nfrom PIL import Image\\nfrom sklearn.linear_model import ElasticNet\\nimport torch\\nfrom sklearn.model_selection import GridSearchCV\\nfrom sklearn.preprocessing import PolynomialFeatures\\nimport pandas as pd\\nimport pickle\\nfrom sklearn.preprocessing import MinMaxScaler\\nimport plotly.express as px\\nfrom sklearn.model_selection import train_test_split\\nfrom sklearn.cluster import KMeans\\nfrom sklearn.linear_model import Lasso'); }\n",
              "    "
            ]
          },
          "metadata": {}
        }
      ]
    },
    {
      "cell_type": "code",
      "source": [
        "regressor=LinearRegression()\n",
        "regressor.fit(X_train,y_train)"
      ],
      "metadata": {
        "colab": {
          "base_uri": "https://localhost:8080/",
          "height": 75
        },
        "id": "W8qYwu-kr2RX",
        "outputId": "b730c998-2ec3-4d4d-e724-9c9bf291111a"
      },
      "execution_count": null,
      "outputs": [
        {
          "output_type": "display_data",
          "data": {
            "text/plain": [
              "<IPython.core.display.Javascript object>"
            ],
            "application/javascript": [
              "\n",
              "        if (window._pyforest_update_imports_cell) { window._pyforest_update_imports_cell('import re\\nimport textblob\\nimport tqdm\\nfrom sklearn.ensemble import GradientBoostingRegressor\\nfrom statsmodels.tsa.arima_model import ARIMA\\nfrom sklearn.linear_model import LogisticRegression\\nimport pydot\\nfrom sklearn.ensemble import GradientBoostingClassifier\\nfrom sklearn.preprocessing import LabelEncoder\\nfrom sklearn.preprocessing import OneHotEncoder\\nfrom sklearn.decomposition import PCA\\nfrom sklearn.linear_model import LassoCV\\nfrom pathlib import Path\\nfrom sklearn.feature_extraction.text import CountVectorizer\\nfrom sklearn.linear_model import LinearRegression\\nfrom sklearn.model_selection import KFold\\nimport plotly as py\\nfrom sklearn.linear_model import ElasticNetCV\\nimport tensorflow as tf\\nimport matplotlib.pyplot as plt\\nfrom PIL import Image\\nfrom sklearn.linear_model import ElasticNet\\nimport torch\\nfrom sklearn.model_selection import GridSearchCV\\nfrom sklearn.preprocessing import PolynomialFeatures\\nimport pandas as pd\\nimport pickle\\nfrom sklearn.preprocessing import MinMaxScaler\\nimport plotly.express as px\\nfrom sklearn.model_selection import train_test_split\\nfrom sklearn.cluster import KMeans\\nfrom sklearn.linear_model import Lasso'); }\n",
              "    "
            ]
          },
          "metadata": {}
        },
        {
          "output_type": "execute_result",
          "data": {
            "text/plain": [
              "LinearRegression()"
            ],
            "text/html": [
              "<style>#sk-container-id-1 {color: black;background-color: white;}#sk-container-id-1 pre{padding: 0;}#sk-container-id-1 div.sk-toggleable {background-color: white;}#sk-container-id-1 label.sk-toggleable__label {cursor: pointer;display: block;width: 100%;margin-bottom: 0;padding: 0.3em;box-sizing: border-box;text-align: center;}#sk-container-id-1 label.sk-toggleable__label-arrow:before {content: \"▸\";float: left;margin-right: 0.25em;color: #696969;}#sk-container-id-1 label.sk-toggleable__label-arrow:hover:before {color: black;}#sk-container-id-1 div.sk-estimator:hover label.sk-toggleable__label-arrow:before {color: black;}#sk-container-id-1 div.sk-toggleable__content {max-height: 0;max-width: 0;overflow: hidden;text-align: left;background-color: #f0f8ff;}#sk-container-id-1 div.sk-toggleable__content pre {margin: 0.2em;color: black;border-radius: 0.25em;background-color: #f0f8ff;}#sk-container-id-1 input.sk-toggleable__control:checked~div.sk-toggleable__content {max-height: 200px;max-width: 100%;overflow: auto;}#sk-container-id-1 input.sk-toggleable__control:checked~label.sk-toggleable__label-arrow:before {content: \"▾\";}#sk-container-id-1 div.sk-estimator input.sk-toggleable__control:checked~label.sk-toggleable__label {background-color: #d4ebff;}#sk-container-id-1 div.sk-label input.sk-toggleable__control:checked~label.sk-toggleable__label {background-color: #d4ebff;}#sk-container-id-1 input.sk-hidden--visually {border: 0;clip: rect(1px 1px 1px 1px);clip: rect(1px, 1px, 1px, 1px);height: 1px;margin: -1px;overflow: hidden;padding: 0;position: absolute;width: 1px;}#sk-container-id-1 div.sk-estimator {font-family: monospace;background-color: #f0f8ff;border: 1px dotted black;border-radius: 0.25em;box-sizing: border-box;margin-bottom: 0.5em;}#sk-container-id-1 div.sk-estimator:hover {background-color: #d4ebff;}#sk-container-id-1 div.sk-parallel-item::after {content: \"\";width: 100%;border-bottom: 1px solid gray;flex-grow: 1;}#sk-container-id-1 div.sk-label:hover label.sk-toggleable__label {background-color: #d4ebff;}#sk-container-id-1 div.sk-serial::before {content: \"\";position: absolute;border-left: 1px solid gray;box-sizing: border-box;top: 0;bottom: 0;left: 50%;z-index: 0;}#sk-container-id-1 div.sk-serial {display: flex;flex-direction: column;align-items: center;background-color: white;padding-right: 0.2em;padding-left: 0.2em;position: relative;}#sk-container-id-1 div.sk-item {position: relative;z-index: 1;}#sk-container-id-1 div.sk-parallel {display: flex;align-items: stretch;justify-content: center;background-color: white;position: relative;}#sk-container-id-1 div.sk-item::before, #sk-container-id-1 div.sk-parallel-item::before {content: \"\";position: absolute;border-left: 1px solid gray;box-sizing: border-box;top: 0;bottom: 0;left: 50%;z-index: -1;}#sk-container-id-1 div.sk-parallel-item {display: flex;flex-direction: column;z-index: 1;position: relative;background-color: white;}#sk-container-id-1 div.sk-parallel-item:first-child::after {align-self: flex-end;width: 50%;}#sk-container-id-1 div.sk-parallel-item:last-child::after {align-self: flex-start;width: 50%;}#sk-container-id-1 div.sk-parallel-item:only-child::after {width: 0;}#sk-container-id-1 div.sk-dashed-wrapped {border: 1px dashed gray;margin: 0 0.4em 0.5em 0.4em;box-sizing: border-box;padding-bottom: 0.4em;background-color: white;}#sk-container-id-1 div.sk-label label {font-family: monospace;font-weight: bold;display: inline-block;line-height: 1.2em;}#sk-container-id-1 div.sk-label-container {text-align: center;}#sk-container-id-1 div.sk-container {/* jupyter's `normalize.less` sets `[hidden] { display: none; }` but bootstrap.min.css set `[hidden] { display: none !important; }` so we also need the `!important` here to be able to override the default hidden behavior on the sphinx rendered scikit-learn.org. See: https://github.com/scikit-learn/scikit-learn/issues/21755 */display: inline-block !important;position: relative;}#sk-container-id-1 div.sk-text-repr-fallback {display: none;}</style><div id=\"sk-container-id-1\" class=\"sk-top-container\"><div class=\"sk-text-repr-fallback\"><pre>LinearRegression()</pre><b>In a Jupyter environment, please rerun this cell to show the HTML representation or trust the notebook. <br />On GitHub, the HTML representation is unable to render, please try loading this page with nbviewer.org.</b></div><div class=\"sk-container\" hidden><div class=\"sk-item\"><div class=\"sk-estimator sk-toggleable\"><input class=\"sk-toggleable__control sk-hidden--visually\" id=\"sk-estimator-id-1\" type=\"checkbox\" checked><label for=\"sk-estimator-id-1\" class=\"sk-toggleable__label sk-toggleable__label-arrow\">LinearRegression</label><div class=\"sk-toggleable__content\"><pre>LinearRegression()</pre></div></div></div></div></div>"
            ]
          },
          "metadata": {},
          "execution_count": 30
        }
      ]
    },
    {
      "cell_type": "code",
      "source": [
        "line = regressor.coef_*X+regressor.intercept_\n",
        "\n",
        "# Plotting for the test data\n",
        "plt.scatter(X, y)\n",
        "plt.plot(X, line);\n",
        "plt.show()"
      ],
      "metadata": {
        "colab": {
          "base_uri": "https://localhost:8080/",
          "height": 430
        },
        "id": "yBoCnrXAuJRW",
        "outputId": "54fe0a79-8c7d-4287-fea2-7dd93f0abf44"
      },
      "execution_count": null,
      "outputs": [
        {
          "output_type": "display_data",
          "data": {
            "text/plain": [
              "<IPython.core.display.Javascript object>"
            ],
            "application/javascript": [
              "\n",
              "        if (window._pyforest_update_imports_cell) { window._pyforest_update_imports_cell('import re\\nimport seaborn as sns\\nimport textblob\\nimport statsmodels.api as sm\\nimport tqdm\\nimport spacy\\nimport sys\\nfrom sklearn.ensemble import GradientBoostingRegressor\\nfrom statsmodels.tsa.arima_model import ARIMA\\nimport skimage\\nfrom sklearn.linear_model import LogisticRegression\\nfrom sklearn.model_selection import cross_val_score\\nimport pydot\\nfrom sklearn.ensemble import GradientBoostingClassifier\\nfrom sklearn.preprocessing import LabelEncoder\\nfrom sklearn.preprocessing import OneHotEncoder\\nimport sklearn\\nfrom sklearn.decomposition import PCA\\nfrom sklearn.linear_model import LassoCV\\nfrom pathlib import Path\\nfrom sklearn.feature_extraction.text import CountVectorizer\\nfrom sklearn.linear_model import LinearRegression\\nfrom sklearn.model_selection import KFold\\nimport plotly as py\\nfrom sklearn.linear_model import ElasticNetCV\\nimport tensorflow as tf\\nimport matplotlib.pyplot as plt\\nfrom PIL import Image\\nfrom sklearn.linear_model import ElasticNet\\nimport torch\\nfrom sklearn import svm\\nimport cv2\\nimport numpy as np\\nfrom sklearn.preprocessing import PolynomialFeatures\\nfrom sklearn.model_selection import GridSearchCV\\nimport statistics\\nimport pandas as pd\\nimport pickle\\nfrom sklearn.preprocessing import MinMaxScaler\\nimport plotly.express as px\\nfrom sklearn.model_selection import train_test_split\\nfrom scipy import stats\\nfrom scipy import signal as sg\\nfrom sklearn.cluster import KMeans\\nfrom sklearn.linear_model import Lasso'); }\n",
              "    "
            ]
          },
          "metadata": {}
        },
        {
          "output_type": "display_data",
          "data": {
            "text/plain": [
              "<IPython.core.display.Javascript object>"
            ],
            "application/javascript": [
              "\n",
              "        if (window._pyforest_update_imports_cell) { window._pyforest_update_imports_cell('import re\\nimport seaborn as sns\\nimport textblob\\nimport statsmodels.api as sm\\nimport tqdm\\nimport spacy\\nimport sys\\nfrom sklearn.ensemble import GradientBoostingRegressor\\nfrom statsmodels.tsa.arima_model import ARIMA\\nimport skimage\\nfrom sklearn.linear_model import LogisticRegression\\nfrom sklearn.model_selection import cross_val_score\\nimport pydot\\nfrom sklearn.ensemble import GradientBoostingClassifier\\nfrom sklearn.preprocessing import LabelEncoder\\nfrom sklearn.preprocessing import OneHotEncoder\\nimport sklearn\\nfrom sklearn.decomposition import PCA\\nfrom sklearn.linear_model import LassoCV\\nfrom pathlib import Path\\nfrom sklearn.feature_extraction.text import CountVectorizer\\nfrom sklearn.linear_model import LinearRegression\\nfrom sklearn.model_selection import KFold\\nimport plotly as py\\nfrom sklearn.linear_model import ElasticNetCV\\nimport tensorflow as tf\\nimport matplotlib.pyplot as plt\\nfrom PIL import Image\\nfrom sklearn.linear_model import ElasticNet\\nimport torch\\nfrom sklearn import svm\\nimport cv2\\nimport numpy as np\\nfrom sklearn.preprocessing import PolynomialFeatures\\nfrom sklearn.model_selection import GridSearchCV\\nimport statistics\\nimport pandas as pd\\nimport pickle\\nfrom sklearn.preprocessing import MinMaxScaler\\nimport plotly.express as px\\nfrom sklearn.model_selection import train_test_split\\nfrom scipy import stats\\nfrom scipy import signal as sg\\nfrom sklearn.cluster import KMeans\\nfrom sklearn.linear_model import Lasso'); }\n",
              "    "
            ]
          },
          "metadata": {}
        },
        {
          "output_type": "display_data",
          "data": {
            "text/plain": [
              "<IPython.core.display.Javascript object>"
            ],
            "application/javascript": [
              "\n",
              "        if (window._pyforest_update_imports_cell) { window._pyforest_update_imports_cell('import re\\nimport seaborn as sns\\nimport textblob\\nimport statsmodels.api as sm\\nimport tqdm\\nimport spacy\\nimport sys\\nfrom sklearn.ensemble import GradientBoostingRegressor\\nfrom statsmodels.tsa.arima_model import ARIMA\\nimport skimage\\nfrom sklearn.linear_model import LogisticRegression\\nfrom sklearn.model_selection import cross_val_score\\nimport pydot\\nfrom sklearn.ensemble import GradientBoostingClassifier\\nfrom sklearn.preprocessing import LabelEncoder\\nfrom sklearn.preprocessing import OneHotEncoder\\nimport sklearn\\nfrom sklearn.decomposition import PCA\\nfrom sklearn.linear_model import LassoCV\\nfrom pathlib import Path\\nfrom sklearn.feature_extraction.text import CountVectorizer\\nfrom sklearn.linear_model import LinearRegression\\nfrom sklearn.model_selection import KFold\\nimport plotly as py\\nfrom sklearn.linear_model import ElasticNetCV\\nimport tensorflow as tf\\nimport matplotlib.pyplot as plt\\nfrom PIL import Image\\nfrom sklearn.linear_model import ElasticNet\\nimport torch\\nfrom sklearn import svm\\nimport cv2\\nimport numpy as np\\nfrom sklearn.preprocessing import PolynomialFeatures\\nfrom sklearn.model_selection import GridSearchCV\\nimport statistics\\nimport pandas as pd\\nimport pickle\\nfrom sklearn.preprocessing import MinMaxScaler\\nimport plotly.express as px\\nfrom sklearn.model_selection import train_test_split\\nfrom scipy import stats\\nfrom scipy import signal as sg\\nfrom sklearn.cluster import KMeans\\nfrom sklearn.linear_model import Lasso'); }\n",
              "    "
            ]
          },
          "metadata": {}
        },
        {
          "output_type": "display_data",
          "data": {
            "text/plain": [
              "<Figure size 640x480 with 1 Axes>"
            ],
            "image/png": "[encoded data removed]"
          },
          "metadata": {}
        }
      ]
    },
    {
      "cell_type": "code",
      "source": [
        "print(X_test) # Testing data - In Hours\n",
        "y_pred = regressor.predict(X_test)# Predicting the scores"
      ],
      "metadata": {
        "colab": {
          "base_uri": "https://localhost:8080/"
        },
        "id": "Vp4edLpHvXHF",
        "outputId": "ba678c4d-1c21-4110-f8c3-16d890f57c5a"
      },
      "execution_count": null,
      "outputs": [
        {
          "output_type": "stream",
          "name": "stdout",
          "text": [
            "    Hours\n",
            "8     8.3\n",
            "16    2.5\n",
            "0     2.5\n",
            "23    6.9\n",
            "11    5.9\n",
            "9     2.7\n",
            "13    3.3\n"
          ]
        }
      ]
    },
    {
      "cell_type": "code",
      "source": [
        "df = pd.DataFrame({'Actual': y_test, 'Predicted': y_pred})\n",
        "df"
      ],
      "metadata": {
        "colab": {
          "base_uri": "https://localhost:8080/",
          "height": 269
        },
        "id": "jhCDzaF6xnu6",
        "outputId": "82b3bf43-70e9-4537-b369-0b254d9f85cd"
      },
      "execution_count": null,
      "outputs": [
        {
          "output_type": "display_data",
          "data": {
            "text/plain": [
              "<IPython.core.display.Javascript object>"
            ],
            "application/javascript": [
              "\n",
              "        if (window._pyforest_update_imports_cell) { window._pyforest_update_imports_cell('import re\\nimport seaborn as sns\\nimport textblob\\nimport statsmodels.api as sm\\nimport tqdm\\nimport spacy\\nimport sys\\nfrom sklearn.ensemble import GradientBoostingRegressor\\nfrom statsmodels.tsa.arima_model import ARIMA\\nimport skimage\\nfrom sklearn.linear_model import LogisticRegression\\nfrom sklearn.model_selection import cross_val_score\\nimport pydot\\nfrom sklearn.ensemble import GradientBoostingClassifier\\nfrom sklearn.preprocessing import LabelEncoder\\nfrom sklearn.preprocessing import OneHotEncoder\\nimport sklearn\\nfrom sklearn.decomposition import PCA\\nfrom sklearn.linear_model import LassoCV\\nfrom pathlib import Path\\nfrom sklearn.feature_extraction.text import CountVectorizer\\nfrom sklearn.linear_model import LinearRegression\\nfrom sklearn.model_selection import KFold\\nimport plotly as py\\nfrom sklearn.linear_model import ElasticNetCV\\nimport tensorflow as tf\\nimport matplotlib.pyplot as plt\\nfrom PIL import Image\\nfrom sklearn.linear_model import ElasticNet\\nimport torch\\nfrom sklearn import svm\\nimport cv2\\nimport numpy as np\\nfrom sklearn.preprocessing import PolynomialFeatures\\nfrom sklearn.model_selection import GridSearchCV\\nimport statistics\\nimport pandas as pd\\nimport pickle\\nfrom sklearn.preprocessing import MinMaxScaler\\nimport plotly.express as px\\nfrom sklearn.model_selection import train_test_split\\nfrom scipy import stats\\nfrom scipy import signal as sg\\nfrom sklearn.cluster import KMeans\\nfrom sklearn.linear_model import Lasso'); }\n",
              "    "
            ]
          },
          "metadata": {}
        },
        {
          "output_type": "execute_result",
          "data": {
            "text/plain": [
              "    Actual  Predicted\n",
              "8       81  83.107332\n",
              "16      30  26.765598\n",
              "0       21  26.765598\n",
              "23      76  69.507603\n",
              "11      62  59.793511\n",
              "9       25  28.708416\n",
              "13      42  34.536871"
            ],
            "text/html": [
              "\n",
              "  <div id=\"df-831e9fcc-4780-481e-bc35-172ec5b0d6fc\" class=\"colab-df-container\">\n",
              "    <div>\n",
              "<style scoped>\n",
              "    .dataframe tbody tr th:only-of-type {\n",
              "        vertical-align: middle;\n",
              "    }\n",
              "\n",
              "    .dataframe tbody tr th {\n",
              "        vertical-align: top;\n",
              "    }\n",
              "\n",
              "    .dataframe thead th {\n",
              "        text-align: right;\n",
              "    }\n",
              "</style>\n",
              "<table border=\"1\" class=\"dataframe\">\n",
              "  <thead>\n",
              "    <tr style=\"text-align: right;\">\n",
              "      <th></th>\n",
              "      <th>Actual</th>\n",
              "      <th>Predicted</th>\n",
              "    </tr>\n",
              "  </thead>\n",
              "  <tbody>\n",
              "    <tr>\n",
              "      <th>8</th>\n",
              "      <td>81</td>\n",
              "      <td>83.107332</td>\n",
              "    </tr>\n",
              "    <tr>\n",
              "      <th>16</th>\n",
              "      <td>30</td>\n",
              "      <td>26.765598</td>\n",
              "    </tr>\n",
              "    <tr>\n",
              "      <th>0</th>\n",
              "      <td>21</td>\n",
              "      <td>26.765598</td>\n",
              "    </tr>\n",
              "    <tr>\n",
              "      <th>23</th>\n",
              "      <td>76</td>\n",
              "      <td>69.507603</td>\n",
              "    </tr>\n",
              "    <tr>\n",
              "      <th>11</th>\n",
              "      <td>62</td>\n",
              "      <td>59.793511</td>\n",
              "    </tr>\n",
              "    <tr>\n",
              "      <th>9</th>\n",
              "      <td>25</td>\n",
              "      <td>28.708416</td>\n",
              "    </tr>\n",
              "    <tr>\n",
              "      <th>13</th>\n",
              "      <td>42</td>\n",
              "      <td>34.536871</td>\n",
              "    </tr>\n",
              "  </tbody>\n",
              "</table>\n",
              "</div>\n",
              "    <div class=\"colab-df-buttons\">\n",
              "\n",
              "  <div class=\"colab-df-container\">\n",
              "    <button class=\"colab-df-convert\" onclick=\"convertToInteractive('df-831e9fcc-4780-481e-bc35-172ec5b0d6fc')\"\n",
              "            title=\"Convert this dataframe to an interactive table.\"\n",
              "            style=\"display:none;\">\n",
              "\n",
              "  <svg xmlns=\"http://www.w3.org/2000/svg\" height=\"24px\" viewBox=\"0 -960 960 960\">\n",
              "    <path d=\"M120-120v-720h720v720H120Zm60-500h600v-160H180v160Zm220 220h160v-160H400v160Zm0 220h160v-160H400v160ZM180-400h160v-160H180v160Zm440 0h160v-160H620v160ZM180-180h160v-160H180v160Zm440 0h160v-160H620v160Z\"/>\n",
              "  </svg>\n",
              "    </button>\n",
              "\n",
              "  <style>\n",
              "    .colab-df-container {\n",
              "      display:flex;\n",
              "      gap: 12px;\n",
              "    }\n",
              "\n",
              "    .colab-df-convert {\n",
              "      background-color: #E8F0FE;\n",
              "      border: none;\n",
              "      border-radius: 50%;\n",
              "      cursor: pointer;\n",
              "      display: none;\n",
              "      fill: #1967D2;\n",
              "      height: 32px;\n",
              "      padding: 0 0 0 0;\n",
              "      width: 32px;\n",
              "    }\n",
              "\n",
              "    .colab-df-convert:hover {\n",
              "      background-color: #E2EBFA;\n",
              "      box-shadow: 0px 1px 2px rgba(60, 64, 67, 0.3), 0px 1px 3px 1px rgba(60, 64, 67, 0.15);\n",
              "      fill: #174EA6;\n",
              "    }\n",
              "\n",
              "    .colab-df-buttons div {\n",
              "      margin-bottom: 4px;\n",
              "    }\n",
              "\n",
              "    [theme=dark] .colab-df-convert {\n",
              "      background-color: #3B4455;\n",
              "      fill: #D2E3FC;\n",
              "    }\n",
              "\n",
              "    [theme=dark] .colab-df-convert:hover {\n",
              "      background-color: #434B5C;\n",
              "      box-shadow: 0px 1px 3px 1px rgba(0, 0, 0, 0.15);\n",
              "      filter: drop-shadow(0px 1px 2px rgba(0, 0, 0, 0.3));\n",
              "      fill: #FFFFFF;\n",
              "    }\n",
              "  </style>\n",
              "\n",
              "    <script>\n",
              "      const buttonEl =\n",
              "        document.querySelector('#df-831e9fcc-4780-481e-bc35-172ec5b0d6fc button.colab-df-convert');\n",
              "      buttonEl.style.display =\n",
              "        google.colab.kernel.accessAllowed ? 'block' : 'none';\n",
              "\n",
              "      async function convertToInteractive(key) {\n",
              "        const element = document.querySelector('#df-831e9fcc-4780-481e-bc35-172ec5b0d6fc');\n",
              "        const dataTable =\n",
              "          await google.colab.kernel.invokeFunction('convertToInteractive',\n",
              "                                                    [key], {});\n",
              "        if (!dataTable) return;\n",
              "\n",
              "        const docLinkHtml = 'Like what you see? Visit the ' +\n",
              "          '<a target=\"_blank\" href=https://colab.research.google.com/notebooks/data_table.ipynb>data table notebook</a>'\n",
              "          + ' to learn more about interactive tables.';\n",
              "        element.innerHTML = '';\n",
              "        dataTable['output_type'] = 'display_data';\n",
              "        await google.colab.output.renderOutput(dataTable, element);\n",
              "        const docLink = document.createElement('div');\n",
              "        docLink.innerHTML = docLinkHtml;\n",
              "        element.appendChild(docLink);\n",
              "      }\n",
              "    </script>\n",
              "  </div>\n",
              "\n",
              "\n",
              "<div id=\"df-e52434f1-99d7-4cfd-a446-3a6837bc4995\">\n",
              "  <button class=\"colab-df-quickchart\" onclick=\"quickchart('df-e52434f1-99d7-4cfd-a446-3a6837bc4995')\"\n",
              "            title=\"Suggest charts.\"\n",
              "            style=\"display:none;\">\n",
              "\n",
              "<svg xmlns=\"http://www.w3.org/2000/svg\" height=\"24px\"viewBox=\"0 0 24 24\"\n",
              "     width=\"24px\">\n",
              "    <g>\n",
              "        <path d=\"M19 3H5c-1.1 0-2 .9-2 2v14c0 1.1.9 2 2 2h14c1.1 0 2-.9 2-2V5c0-1.1-.9-2-2-2zM9 17H7v-7h2v7zm4 0h-2V7h2v10zm4 0h-2v-4h2v4z\"/>\n",
              "    </g>\n",
              "</svg>\n",
              "  </button>\n",
              "\n",
              "<style>\n",
              "  .colab-df-quickchart {\n",
              "      --bg-color: #E8F0FE;\n",
              "      --fill-color: #1967D2;\n",
              "      --hover-bg-color: #E2EBFA;\n",
              "      --hover-fill-color: #174EA6;\n",
              "      --disabled-fill-color: #AAA;\n",
              "      --disabled-bg-color: #DDD;\n",
              "  }\n",
              "\n",
              "  [theme=dark] .colab-df-quickchart {\n",
              "      --bg-color: #3B4455;\n",
              "      --fill-color: #D2E3FC;\n",
              "      --hover-bg-color: #434B5C;\n",
              "      --hover-fill-color: #FFFFFF;\n",
              "      --disabled-bg-color: #3B4455;\n",
              "      --disabled-fill-color: #666;\n",
              "  }\n",
              "\n",
              "  .colab-df-quickchart {\n",
              "    background-color: var(--bg-color);\n",
              "    border: none;\n",
              "    border-radius: 50%;\n",
              "    cursor: pointer;\n",
              "    display: none;\n",
              "    fill: var(--fill-color);\n",
              "    height: 32px;\n",
              "    padding: 0;\n",
              "    width: 32px;\n",
              "  }\n",
              "\n",
              "  .colab-df-quickchart:hover {\n",
              "    background-color: var(--hover-bg-color);\n",
              "    box-shadow: 0 1px 2px rgba(60, 64, 67, 0.3), 0 1px 3px 1px rgba(60, 64, 67, 0.15);\n",
              "    fill: var(--button-hover-fill-color);\n",
              "  }\n",
              "\n",
              "  .colab-df-quickchart-complete:disabled,\n",
              "  .colab-df-quickchart-complete:disabled:hover {\n",
              "    background-color: var(--disabled-bg-color);\n",
              "    fill: var(--disabled-fill-color);\n",
              "    box-shadow: none;\n",
              "  }\n",
              "\n",
              "  .colab-df-spinner {\n",
              "    border: 2px solid var(--fill-color);\n",
              "    border-color: transparent;\n",
              "    border-bottom-color: var(--fill-color);\n",
              "    animation:\n",
              "      spin 1s steps(1) infinite;\n",
              "  }\n",
              "\n",
              "  @keyframes spin {\n",
              "    0% {\n",
              "      border-color: transparent;\n",
              "      border-bottom-color: var(--fill-color);\n",
              "      border-left-color: var(--fill-color);\n",
              "    }\n",
              "    20% {\n",
              "      border-color: transparent;\n",
              "      border-left-color: var(--fill-color);\n",
              "      border-top-color: var(--fill-color);\n",
              "    }\n",
              "    30% {\n",
              "      border-color: transparent;\n",
              "      border-left-color: var(--fill-color);\n",
              "      border-top-color: var(--fill-color);\n",
              "      border-right-color: var(--fill-color);\n",
              "    }\n",
              "    40% {\n",
              "      border-color: transparent;\n",
              "      border-right-color: var(--fill-color);\n",
              "      border-top-color: var(--fill-color);\n",
              "    }\n",
              "    60% {\n",
              "      border-color: transparent;\n",
              "      border-right-color: var(--fill-color);\n",
              "    }\n",
              "    80% {\n",
              "      border-color: transparent;\n",
              "      border-right-color: var(--fill-color);\n",
              "      border-bottom-color: var(--fill-color);\n",
              "    }\n",
              "    90% {\n",
              "      border-color: transparent;\n",
              "      border-bottom-color: var(--fill-color);\n",
              "    }\n",
              "  }\n",
              "</style>\n",
              "\n",
              "  <script>\n",
              "    async function quickchart(key) {\n",
              "      const quickchartButtonEl =\n",
              "        document.querySelector('#' + key + ' button');\n",
              "      quickchartButtonEl.disabled = true;  // To prevent multiple clicks.\n",
              "      quickchartButtonEl.classList.add('colab-df-spinner');\n",
              "      try {\n",
              "        const charts = await google.colab.kernel.invokeFunction(\n",
              "            'suggestCharts', [key], {});\n",
              "      } catch (error) {\n",
              "        console.error('Error during call to suggestCharts:', error);\n",
              "      }\n",
              "      quickchartButtonEl.classList.remove('colab-df-spinner');\n",
              "      quickchartButtonEl.classList.add('colab-df-quickchart-complete');\n",
              "    }\n",
              "    (() => {\n",
              "      let quickchartButtonEl =\n",
              "        document.querySelector('#df-e52434f1-99d7-4cfd-a446-3a6837bc4995 button');\n",
              "      quickchartButtonEl.style.display =\n",
              "        google.colab.kernel.accessAllowed ? 'block' : 'none';\n",
              "    })();\n",
              "  </script>\n",
              "</div>\n",
              "    </div>\n",
              "  </div>\n"
            ]
          },
          "metadata": {},
          "execution_count": 40
        }
      ]
    },
    {
      "cell_type": "code",
      "source": [
        "hours = 9.25\n",
        "own_pred = regressor.predict([[9.25]])\n",
        "print(\"No of Hours = {}\".format(hours))\n",
        "print(\"Predicted Score = {}\".format(own_pred[0]))"
      ],
      "metadata": {
        "colab": {
          "base_uri": "https://localhost:8080/"
        },
        "id": "qDe_Kun7xz-T",
        "outputId": "96198b25-a154-457c-a299-257f2474ed28"
      },
      "execution_count": null,
      "outputs": [
        {
          "output_type": "stream",
          "name": "stdout",
          "text": [
            "No of Hours = 9.25\n",
            "Predicted Score = 92.33571987331146\n"
          ]
        },
        {
          "output_type": "stream",
          "name": "stderr",
          "text": [
            "/usr/local/lib/python3.10/dist-packages/sklearn/base.py:439: UserWarning: X does not have valid feature names, but LinearRegression was fitted with feature names\n",
            "  warnings.warn(\n"
          ]
        }
      ]
    },
    {
      "cell_type": "code",
      "source": [
        "print('Mean Absolute Error:',\n",
        "      metrics.mean_absolute_error(y_test, y_pred))"
      ],
      "metadata": {
        "colab": {
          "base_uri": "https://localhost:8080/",
          "height": 34
        },
        "id": "kmnHei5Gx8Oy",
        "outputId": "0fcacc3c-e7fc-4572-bc25-36745a61078c"
      },
      "execution_count": null,
      "outputs": [
        {
          "output_type": "display_data",
          "data": {
            "text/plain": [
              "<IPython.core.display.Javascript object>"
            ],
            "application/javascript": [
              "\n",
              "        if (window._pyforest_update_imports_cell) { window._pyforest_update_imports_cell('import re\\nimport seaborn as sns\\nimport textblob\\nimport statsmodels.api as sm\\nimport tqdm\\nimport matplotlib as mpl\\nimport spacy\\nimport sys\\nfrom sklearn.ensemble import GradientBoostingRegressor\\nfrom statsmodels.tsa.arima_model import ARIMA\\nimport skimage\\nfrom sklearn.linear_model import LogisticRegression\\nfrom sklearn.model_selection import cross_val_score\\nimport pydot\\nfrom sklearn import metrics\\nfrom sklearn.ensemble import GradientBoostingClassifier\\nfrom sklearn.preprocessing import LabelEncoder\\nfrom sklearn.preprocessing import OneHotEncoder\\nimport sklearn\\nfrom sklearn.decomposition import PCA\\nfrom sklearn.linear_model import LassoCV\\nfrom pathlib import Path\\nfrom sklearn.feature_extraction.text import CountVectorizer\\nfrom sklearn.linear_model import LinearRegression\\nfrom sklearn.model_selection import KFold\\nimport plotly as py\\nfrom sklearn.linear_model import ElasticNetCV\\nimport tensorflow as tf\\nimport matplotlib.pyplot as plt\\nfrom PIL import Image\\nfrom sklearn.linear_model import ElasticNet\\nimport torch\\nfrom sklearn import svm\\nimport cv2\\nimport numpy as np\\nfrom sklearn.preprocessing import PolynomialFeatures\\nfrom sklearn.model_selection import GridSearchCV\\nimport statistics\\nimport pandas as pd\\nimport pickle\\nfrom sklearn.preprocessing import MinMaxScaler\\nimport plotly.express as px\\nfrom sklearn.model_selection import train_test_split\\nfrom scipy import stats\\nfrom scipy import signal as sg\\nfrom sklearn.cluster import KMeans\\nfrom sklearn.linear_model import Lasso'); }\n",
              "    "
            ]
          },
          "metadata": {}
        },
        {
          "output_type": "stream",
          "name": "stdout",
          "text": [
            "Mean Absolute Error: 4.425394675156182\n"
          ]
        }
      ]
    }
  ]
}